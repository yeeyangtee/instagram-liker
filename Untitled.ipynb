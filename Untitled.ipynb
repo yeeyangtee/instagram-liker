{
 "cells": [
  {
   "cell_type": "code",
   "execution_count": 1,
   "id": "2cc54d30",
   "metadata": {},
   "outputs": [],
   "source": [
    "from skimage.feature import match_template\n",
    "from PIL import ImageGrab, Image\n",
    "import numpy as np\n",
    "import csv\n"
   ]
  },
  {
   "cell_type": "code",
   "execution_count": 73,
   "id": "552201e2",
   "metadata": {},
   "outputs": [
    {
     "name": "stdout",
     "output_type": "stream",
     "text": [
      "0.9999999999999999\n",
      "(182, 141)\n"
     ]
    }
   ],
   "source": [
    "coords = {}\n",
    "with open('ipad_coords_75.csv', 'r', newline='', encoding='utf-8') as file:\n",
    "\treader = csv.reader(file)\n",
    "\tfor row in reader:\n",
    "\t\tname, coord = row\n",
    "\t\tcoords[name] = tuple(map(int, coord.strip(\"'()\").split(', ')))\n",
    "\n",
    "\n",
    "like_template = Image.open('heart_75.png').convert('L')\n",
    "template = np.array(like_template)\n",
    "\n",
    "bbox = (coords['explore_top_left'][0],coords['explore_top_left'][1], coords['explore_bot_right'][0], coords['explore_bot_right'][1])\n",
    "\n",
    "\n",
    "im = ImageGrab.grab(bbox).convert('L')\n",
    "im.save('tmp.png')\n",
    "result = match_template(np.array(im), template, pad_input=True)\n",
    "ij = np.unravel_index(np.argmax(result), result.shape)\n",
    "keypoint = ij[:2]\n",
    "print(result.max())\n",
    "print(keypoint)"
   ]
  },
  {
   "cell_type": "code",
   "execution_count": 3,
   "id": "e2ba2fc6",
   "metadata": {},
   "outputs": [],
   "source": [
    "coords = {}\n",
    "with open('coords/ipad_coords_75.csv', 'r', newline='', encoding='utf-8') as file:\n",
    "\treader = csv.reader(file)\n",
    "\tfor row in reader:\n",
    "\t\tname, coord = row\n",
    "\t\tcoords[name] = tuple(map(int, coord.strip(\"'()\").split(', ')))\n"
   ]
  },
  {
   "cell_type": "code",
   "execution_count": 5,
   "id": "b1952a8c",
   "metadata": {},
   "outputs": [],
   "source": [
    "normalizer = coords['main_top_left']\n",
    "coords2= {}\n",
    "for name, coord in coords.items():\n",
    "    coords2[name] = (coord[0]-normalizer[0],coord[1]-normalizer[1])"
   ]
  },
  {
   "cell_type": "code",
   "execution_count": 6,
   "id": "97930069",
   "metadata": {},
   "outputs": [
    {
     "data": {
      "text/plain": [
       "{'main_top_left': (0, 0),\n",
       " 'main_bot_right': (575, 769),\n",
       " 'explore_button': (487, 21),\n",
       " 'follow_button': (361, 82),\n",
       " 'post_1': (105, 397),\n",
       " 'next_post': (558, 385),\n",
       " 'post_top_left': (235, 404),\n",
       " 'post_bot_right': (396, 529),\n",
       " 'explore_top_left': (176, 276),\n",
       " 'explore_bot_right': (539, 555),\n",
       " 'explore_1': (104, 149),\n",
       " 'test_heart': (315, 457)}"
      ]
     },
     "execution_count": 6,
     "metadata": {},
     "output_type": "execute_result"
    }
   ],
   "source": [
    "coords2"
   ]
  },
  {
   "cell_type": "code",
   "execution_count": 70,
   "id": "3538ec7a",
   "metadata": {},
   "outputs": [
    {
     "data": {
      "text/plain": [
       "(259, 340)"
      ]
     },
     "execution_count": 70,
     "metadata": {},
     "output_type": "execute_result"
    }
   ],
   "source": [
    "result.shape"
   ]
  },
  {
   "cell_type": "code",
   "execution_count": 65,
   "id": "c52636f3",
   "metadata": {},
   "outputs": [
    {
     "data": {
      "image/png": "[encoded data removed]",
      "text/plain": [
       "<PIL.Image.Image image mode=L size=363x279 at 0x18D7CEC2A90>"
      ]
     },
     "execution_count": 65,
     "metadata": {},
     "output_type": "execute_result"
    }
   ],
   "source": [
    "im"
   ]
  },
  {
   "cell_type": "code",
   "execution_count": 29,
   "id": "95ae6f69",
   "metadata": {},
   "outputs": [],
   "source": [
    "like_template = Image.open('heart.png').convert('RGB')\n",
    "template = np.array(like_template)\n",
    "\n",
    "bbox = (300, 300, 550, 1000)\n",
    "im = ImageGrab.grab(bbox)\n",
    "im.save('tmp.png')\n",
    "result = match_template(np.array(im), template)\n",
    "# print(result)\n"
   ]
  },
  {
   "cell_type": "code",
   "execution_count": 30,
   "id": "2d73cd8b",
   "metadata": {},
   "outputs": [],
   "source": [
    "ij = np.unravel_index(np.argmax(result), result.shape)\n"
   ]
  },
  {
   "cell_type": "code",
   "execution_count": 32,
   "id": "b0bb9270",
   "metadata": {},
   "outputs": [
    {
     "data": {
      "text/plain": [
       "(566, 211, 0)"
      ]
     },
     "execution_count": 32,
     "metadata": {},
     "output_type": "execute_result"
    }
   ],
   "source": [
    "ij"
   ]
  },
  {
   "cell_type": "code",
   "execution_count": 33,
   "id": "8a27727a",
   "metadata": {},
   "outputs": [
    {
     "data": {
      "text/plain": [
       "1.0"
      ]
     },
     "execution_count": 33,
     "metadata": {},
     "output_type": "execute_result"
    }
   ],
   "source": [
    "result.max()"
   ]
  },
  {
   "cell_type": "code",
   "execution_count": null,
   "id": "e58a21ff",
   "metadata": {},
   "outputs": [],
   "source": []
  }
 ],
 "metadata": {
  "kernelspec": {
   "display_name": "Python [conda env:ahk]",
   "language": "python",
   "name": "conda-env-ahk-py"
  },
  "language_info": {
   "codemirror_mode": {
    "name": "ipython",
    "version": 3
   },
   "file_extension": ".py",
   "mimetype": "text/x-python",
   "name": "python",
   "nbconvert_exporter": "python",
   "pygments_lexer": "ipython3",
   "version": "3.9.6"
  }
 },
 "nbformat": 4,
 "nbformat_minor": 5
}
